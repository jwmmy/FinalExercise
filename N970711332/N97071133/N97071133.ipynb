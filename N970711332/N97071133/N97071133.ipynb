{
 "cells": [
  {
   "cell_type": "code",
   "execution_count": 34,
   "metadata": {
    "ExecuteTime": {
     "end_time": "2020-01-14T13:02:16.550278Z",
     "start_time": "2020-01-14T13:02:16.546285Z"
    }
   },
   "outputs": [],
   "source": [
    "import os\n",
    "import numpy as np\n",
    "import pandas as pd\n",
    "import matplotlib.pyplot as plt\n",
    "%matplotlib inline"
   ]
  },
  {
   "cell_type": "code",
   "execution_count": 35,
   "metadata": {
    "ExecuteTime": {
     "end_time": "2020-01-14T13:02:16.881667Z",
     "start_time": "2020-01-14T13:02:16.878674Z"
    }
   },
   "outputs": [],
   "source": [
    "def computeCost(X,Y,theta):\n",
    "    inner=np.power((( X * theta.T )- Y ),2)\n",
    "    suminner=np.sum(inner)\n",
    "    return suminner/(2*len(X))"
   ]
  },
  {
   "cell_type": "code",
   "execution_count": 36,
   "metadata": {
    "ExecuteTime": {
     "end_time": "2020-01-14T13:02:17.232186Z",
     "start_time": "2020-01-14T13:02:17.226201Z"
    }
   },
   "outputs": [],
   "source": [
    "def gradecent(X,Y,theta,alpha,iters):\n",
    "    temp=np.matrix(np.zeros(theta.shape))\n",
    "    parameters=int(theta.shape[1])\n",
    "    cost=np.zeros(iters)\n",
    "    for i in range(iters):\n",
    "        error=X*theta.T-Y\n",
    "        for j in range(parameters):\n",
    "            term=np.multiply(error,X[:,j])\n",
    "            temp[0,j]=theta[0,j]-(alpha/len(X))*np.sum(term)\n",
    "            \n",
    "        theta=temp\n",
    "        cost[i]=computeCost(X,Y,theta)\n",
    "    return theta , cost"
   ]
  },
  {
   "cell_type": "code",
   "execution_count": 37,
   "metadata": {
    "ExecuteTime": {
     "end_time": "2020-01-14T13:02:17.565373Z",
     "start_time": "2020-01-14T13:02:17.561423Z"
    }
   },
   "outputs": [],
   "source": [
    "def normalize(X):\n",
    "    f_standValue = X.std()\n",
    "    Xnor = (X) / f_standValue\n",
    "    return Xnor,f_standValue"
   ]
  },
  {
   "cell_type": "code",
   "execution_count": 38,
   "metadata": {
    "ExecuteTime": {
     "end_time": "2020-01-14T13:02:17.899010Z",
     "start_time": "2020-01-14T13:02:17.895991Z"
    }
   },
   "outputs": [],
   "source": [
    "def predict(X,theta):\n",
    "    result = X * theta.T\n",
    "    return result"
   ]
  },
  {
   "cell_type": "code",
   "execution_count": 39,
   "metadata": {
    "ExecuteTime": {
     "end_time": "2020-01-14T13:02:18.256726Z",
     "start_time": "2020-01-14T13:02:18.248749Z"
    }
   },
   "outputs": [],
   "source": [
    "path=os.getcwd() +'/finalExercise.txt'\n",
    "data=pd.read_csv(path,header=None,names=['Height', 'Age', 'Weight'])\n",
    "dataStand,standCoefficient = normalize(data)\n"
   ]
  },
  {
   "cell_type": "code",
   "execution_count": 40,
   "metadata": {
    "ExecuteTime": {
     "end_time": "2020-01-14T13:02:18.626226Z",
     "start_time": "2020-01-14T13:02:18.622210Z"
    }
   },
   "outputs": [],
   "source": [
    "cols=dataStand.shape[1]\n",
    "X=np.matrix(dataStand.iloc[:,0:cols-1])\n",
    "Y=np.matrix(dataStand.iloc[:,cols-1:cols])\n",
    "theta=np.matrix(np.zeros(X.shape[1],dtype=int))"
   ]
  },
  {
   "cell_type": "code",
   "execution_count": 41,
   "metadata": {
    "ExecuteTime": {
     "end_time": "2020-01-14T13:02:19.035065Z",
     "start_time": "2020-01-14T13:02:18.995144Z"
    }
   },
   "outputs": [
    {
     "name": "stdout",
     "output_type": "stream",
     "text": [
      "beforeTrainCost => 12.92766658221434\n",
      "afterTrainCost => 0.4509195870714757\n"
     ]
    }
   ],
   "source": [
    "beforeTrainCost = computeCost(X,Y,theta)\n",
    "alpha=0.0001\n",
    "iters=500\n",
    "resultTheta,resultCost=gradecent(X,Y,theta,alpha,iters)\n",
    "afterTrainCost = computeCost(X,Y,resultTheta)\n",
    "print(\"beforeTrainCost => \"+format(beforeTrainCost))\n",
    "print(\"afterTrainCost => \"+format(afterTrainCost))"
   ]
  },
  {
   "cell_type": "code",
   "execution_count": 42,
   "metadata": {
    "ExecuteTime": {
     "end_time": "2020-01-14T13:02:19.680955Z",
     "start_time": "2020-01-14T13:02:19.584188Z"
    }
   },
   "outputs": [
    {
     "data": {
      "text/plain": [
       "[<matplotlib.lines.Line2D at 0x177966b6fd0>]"
      ]
     },
     "execution_count": 42,
     "metadata": {},
     "output_type": "execute_result"
    },
    {
     "data": {
      "image/png": "[encoded data removed]",
      "text/plain": [
       "<Figure size 360x360 with 1 Axes>"
      ]
     },
     "metadata": {
      "needs_background": "light"
     },
     "output_type": "display_data"
    }
   ],
   "source": [
    "fig,ax=plt.subplots(figsize=(5,5))\n",
    "ax.plot(np.arange(iters),resultCost)"
   ]
  },
  {
   "cell_type": "code",
   "execution_count": 43,
   "metadata": {
    "ExecuteTime": {
     "end_time": "2020-01-14T13:04:30.448468Z",
     "start_time": "2020-01-14T13:04:30.442484Z"
    }
   },
   "outputs": [
    {
     "name": "stdout",
     "output_type": "stream",
     "text": [
      "resultWeight = > 59.0\n"
     ]
    }
   ],
   "source": [
    "TestData = np.array([5.5,38])\n",
    "TestDataNor = TestData / standCoefficient[0:len(standCoefficient)-1]\n",
    "TestDataNor = TestDataNor[np.newaxis,:]\n",
    "resultWeight = predict(TestDataNor,resultTheta) * standCoefficient[len(standCoefficient)-1]\n",
    "resultWeight = np.round(resultWeight.max())\n",
    "print(\"resultWeight = > \"+ format(resultWeight))"
   ]
  },
  {
   "cell_type": "code",
   "execution_count": 44,
   "metadata": {
    "ExecuteTime": {
     "end_time": "2020-01-14T13:06:18.946159Z",
     "start_time": "2020-01-14T13:06:18.940175Z"
    }
   },
   "outputs": [
    {
     "name": "stdout",
     "output_type": "stream",
     "text": [
      "accuracy => 57.2101458193775\n"
     ]
    }
   ],
   "source": [
    "py=resultTheta[0,0]*X[:,0]+resultTheta[0,1]*X[:,1]\n",
    "err=abs(data.Weight-np.array(py).ravel())\n",
    "acc=data.Weight-np.array(py).ravel()/data.Weight\n",
    "print(\"accuracy => \"+ format(acc.mean()))\n"
   ]
  },
  {
   "cell_type": "code",
   "execution_count": 45,
   "metadata": {
    "ExecuteTime": {
     "end_time": "2020-01-14T13:07:35.902642Z",
     "start_time": "2020-01-14T13:07:35.791941Z"
    }
   },
   "outputs": [
    {
     "data": {
      "text/plain": [
       "<mpl_toolkits.mplot3d.art3d.Path3DCollection at 0x1779676d908>"
      ]
     },
     "execution_count": 45,
     "metadata": {},
     "output_type": "execute_result"
    },
    {
     "data": {
      "image/png": "[encoded data removed]",
      "text/plain": [
       "<Figure size 432x288 with 1 Axes>"
      ]
     },
     "metadata": {
      "needs_background": "light"
     },
     "output_type": "display_data"
    }
   ],
   "source": [
    "from mpl_toolkits.mplot3d import Axes3D\n",
    "x2=np.linspace(data.Age.min(),data.Age.max(),47)\n",
    "fig = plt.figure()\n",
    "ax = fig.add_subplot(111, projection='3d')\n",
    "ax.plot(data.Height,data.Age,np.array(py).ravel())\n",
    "ax.scatter(data.Height,data.Age,data.Weight)"
   ]
  },
  {
   "cell_type": "code",
   "execution_count": null,
   "metadata": {},
   "outputs": [],
   "source": []
  },
  {
   "cell_type": "code",
   "execution_count": null,
   "metadata": {},
   "outputs": [],
   "source": []
  }
 ],
 "metadata": {
  "kernelspec": {
   "display_name": "Python 3",
   "language": "python",
   "name": "python3"
  },
  "language_info": {
   "codemirror_mode": {
    "name": "ipython",
    "version": 3
   },
   "file_extension": ".py",
   "mimetype": "text/x-python",
   "name": "python",
   "nbconvert_exporter": "python",
   "pygments_lexer": "ipython3",
   "version": "3.6.0"
  },
  "nbTranslate": {
   "displayLangs": [
    "*"
   ],
   "hotkey": "alt-t",
   "langInMainMenu": true,
   "sourceLang": "en",
   "targetLang": "fr",
   "useGoogleTranslate": true
  },
  "toc": {
   "base_numbering": 1,
   "nav_menu": {},
   "number_sections": true,
   "sideBar": true,
   "skip_h1_title": false,
   "title_cell": "Table of Contents",
   "title_sidebar": "Contents",
   "toc_cell": false,
   "toc_position": {},
   "toc_section_display": true,
   "toc_window_display": false
  },
  "varInspector": {
   "cols": {
    "lenName": 16,
    "lenType": 16,
    "lenVar": 40
   },
   "kernels_config": {
    "python": {
     "delete_cmd_postfix": "",
     "delete_cmd_prefix": "del ",
     "library": "var_list.py",
     "varRefreshCmd": "print(var_dic_list())"
    },
    "r": {
     "delete_cmd_postfix": ") ",
     "delete_cmd_prefix": "rm(",
     "library": "var_list.r",
     "varRefreshCmd": "cat(var_dic_list()) "
    }
   },
   "types_to_exclude": [
    "module",
    "function",
    "builtin_function_or_method",
    "instance",
    "_Feature"
   ],
   "window_display": true
  }
 },
 "nbformat": 4,
 "nbformat_minor": 2
}
